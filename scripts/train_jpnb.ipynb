{
 "cells": [
  {
   "cell_type": "code",
   "execution_count": 5,
   "metadata": {},
   "outputs": [],
   "source": [
    "import sys\n",
    "import os\n",
    "\n",
    "# Get the absolute path of the root directory\n",
    "sys.path.append(os.path.abspath(\"..\"))  # Adjust path if needed"
   ]
  },
  {
   "cell_type": "code",
   "execution_count": 6,
   "metadata": {},
   "outputs": [],
   "source": [
    "import os\n",
    "import torch\n",
    "from transformers import Seq2SeqTrainingArguments, Seq2SeqTrainer, T5Tokenizer, AutoConfig\n",
    "from src.struct_models.rotatE import RotatE\n",
    "from src.model import StructKGS2S\n",
    "from src.utils import DataCollatorForSeq2Seq\n",
    "from src.dataset import KGCDataset, SplitDatasetWrapper\n",
    "\n",
    "\n",
    "\n",
    "dataset_name = 'fb15k-237'\n",
    "root = '/Users/apple/Struct-KGS2S/'\n",
    "max_rel_size = 237\n",
    "\n",
    "tokenizer = T5Tokenizer.from_pretrained('t5-small', padding=True)\n",
    "\n",
    "# init datasets\n",
    "kg_data_path = os.path.join(root, 'data/processed', dataset_name, 'kg_data.pt')\n",
    "kg_data = torch.load(kg_data_path)\n",
    "rotatE = RotatE(k=350, entity_embedding=kg_data['struct_ent_emb'], relation_embedding=kg_data['struct_rel_emb'], max_rel_size=max_rel_size)\n",
    "dataset = KGCDataset(num_ents=14541, structal_model=rotatE, kg_data=kg_data, tokenizer=tokenizer)\n",
    "train_dataset = SplitDatasetWrapper(dataset, split=\"train\")\n",
    "valid_dataset = SplitDatasetWrapper(dataset, split=\"valid\")\n",
    "\n",
    "\n"
   ]
  },
  {
   "cell_type": "code",
   "execution_count": 7,
   "metadata": {},
   "outputs": [
    {
     "name": "stderr",
     "output_type": "stream",
     "text": [
      "Some weights of StructKGS2S were not initialized from the model checkpoint at t5-small and are newly initialized: ['act.weight', 'key_projection.bias', 'key_projection.weight', 'value_projection1.bias', 'value_projection1.weight', 'value_projection2.bias', 'value_projection2.weight']\n",
      "You should probably TRAIN this model on a down-stream task to be able to use it for predictions and inference.\n"
     ]
    }
   ],
   "source": [
    "\n",
    "# init model\n",
    "ckpt_name ='t5-small'\n",
    "\n",
    "config = AutoConfig.from_pretrained(ckpt_name)\n",
    "config.struct_d_model = 700\n",
    "\n",
    "model = StructKGS2S.from_pretrained(ckpt_name, config=config)\n",
    "data_collator = DataCollatorForSeq2Seq(tokenizer, model=model, data_names=list(train_dataset[0].keys()))\n",
    "\n"
   ]
  },
  {
   "cell_type": "code",
   "execution_count": null,
   "metadata": {},
   "outputs": [],
   "source": [
    "\n",
    "# training arguments\n",
    "batch_size= 32*4\n",
    "num_train_epochs = 1000\n",
    "learning_rate = 1e-4\n",
    "\n",
    "args = Seq2SeqTrainingArguments(\n",
    "    \"kgs2s-rotatE\",\n",
    "    dataloader_num_workers=8,\n",
    "    per_device_train_batch_size=batch_size,\n",
    "    per_device_eval_batch_size=batch_size,\n",
    "    num_train_epochs=num_train_epochs,\n",
    "    do_eval=True,\n",
    "    evaluation_strategy=\"epoch\",\n",
    "    save_strategy=\"epoch\",\n",
    "    logging_strategy='epoch',\n",
    "    learning_rate=learning_rate,\n",
    "    report_to='none',\n",
    "    load_best_model_at_end=True,\n",
    ")\n",
    "\n",
    "trainer = Seq2SeqTrainer(\n",
    "    model,\n",
    "    args,\n",
    "    train_dataset=train_dataset,\n",
    "    eval_dataset=valid_dataset,\n",
    "    data_collator=data_collator,\n",
    ")\n"
   ]
  },
  {
   "cell_type": "code",
   "execution_count": null,
   "metadata": {},
   "outputs": [],
   "source": [
    "\n",
    "# training\n",
    "trainer.train()"
   ]
  }
 ],
 "metadata": {
  "kernelspec": {
   "display_name": "Python 3",
   "language": "python",
   "name": "python3"
  },
  "language_info": {
   "codemirror_mode": {
    "name": "ipython",
    "version": 3
   },
   "file_extension": ".py",
   "mimetype": "text/x-python",
   "name": "python",
   "nbconvert_exporter": "python",
   "pygments_lexer": "ipython3",
   "version": "3.10.11"
  }
 },
 "nbformat": 4,
 "nbformat_minor": 2
}
